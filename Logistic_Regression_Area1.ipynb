{
 "cells": [
  {
   "cell_type": "markdown",
   "id": "903cf638",
   "metadata": {},
   "source": [
    "<center> <h1> <font color='blue'> Logistic Regression for Area 1 </h1> "
   ]
  },
  {
   "cell_type": "markdown",
   "id": "57bcb58d",
   "metadata": {},
   "source": [
    "<h6> Load Libraries </h6>"
   ]
  },
  {
   "cell_type": "code",
   "execution_count": 26,
   "id": "d0959647",
   "metadata": {},
   "outputs": [],
   "source": [
    "import os\n",
    "import pandas as pd\n",
    "from sklearn.model_selection import train_test_split\n",
    "from sklearn.linear_model import LogisticRegression\n",
    "from sklearn import metrics\n",
    "from itertools import chain\n",
    "from matplotlib import pyplot as plt"
   ]
  },
  {
   "cell_type": "markdown",
   "id": "3cbb7fdc",
   "metadata": {},
   "source": [
    "<h6> Set the working directory </h6>"
   ]
  },
  {
   "cell_type": "code",
   "execution_count": 27,
   "id": "d8d52a4d",
   "metadata": {},
   "outputs": [
    {
     "data": {
      "text/html": [
       "<div>\n",
       "<style scoped>\n",
       "    .dataframe tbody tr th:only-of-type {\n",
       "        vertical-align: middle;\n",
       "    }\n",
       "\n",
       "    .dataframe tbody tr th {\n",
       "        vertical-align: top;\n",
       "    }\n",
       "\n",
       "    .dataframe thead th {\n",
       "        text-align: right;\n",
       "    }\n",
       "</style>\n",
       "<table border=\"1\" class=\"dataframe\">\n",
       "  <thead>\n",
       "    <tr style=\"text-align: right;\">\n",
       "      <th></th>\n",
       "      <th>Date</th>\n",
       "      <th>Drought_Level_Index</th>\n",
       "      <th>Precipitation_in</th>\n",
       "      <th>Temperature_C</th>\n",
       "      <th>Vegetation</th>\n",
       "      <th>Evapotranspiration</th>\n",
       "      <th>County</th>\n",
       "    </tr>\n",
       "  </thead>\n",
       "  <tbody>\n",
       "    <tr>\n",
       "      <th>0</th>\n",
       "      <td>2000-02</td>\n",
       "      <td>1.754260</td>\n",
       "      <td>0.32</td>\n",
       "      <td>25.557100</td>\n",
       "      <td>0.20440</td>\n",
       "      <td>1.640400</td>\n",
       "      <td>Crosby</td>\n",
       "    </tr>\n",
       "    <tr>\n",
       "      <th>1</th>\n",
       "      <td>2000-03</td>\n",
       "      <td>2.016075</td>\n",
       "      <td>3.07</td>\n",
       "      <td>26.973700</td>\n",
       "      <td>0.21600</td>\n",
       "      <td>2.716475</td>\n",
       "      <td>Crosby</td>\n",
       "    </tr>\n",
       "    <tr>\n",
       "      <th>2</th>\n",
       "      <td>2000-04</td>\n",
       "      <td>0.296925</td>\n",
       "      <td>2.36</td>\n",
       "      <td>33.351775</td>\n",
       "      <td>0.27375</td>\n",
       "      <td>1.790225</td>\n",
       "      <td>Crosby</td>\n",
       "    </tr>\n",
       "    <tr>\n",
       "      <th>3</th>\n",
       "      <td>2000-05</td>\n",
       "      <td>0.406600</td>\n",
       "      <td>1.02</td>\n",
       "      <td>40.815733</td>\n",
       "      <td>0.29960</td>\n",
       "      <td>1.057933</td>\n",
       "      <td>Crosby</td>\n",
       "    </tr>\n",
       "    <tr>\n",
       "      <th>4</th>\n",
       "      <td>2000-06</td>\n",
       "      <td>0.250000</td>\n",
       "      <td>4.55</td>\n",
       "      <td>36.667025</td>\n",
       "      <td>0.40450</td>\n",
       "      <td>3.800975</td>\n",
       "      <td>Crosby</td>\n",
       "    </tr>\n",
       "  </tbody>\n",
       "</table>\n",
       "</div>"
      ],
      "text/plain": [
       "      Date  Drought_Level_Index  Precipitation_in  Temperature_C  Vegetation  \\\n",
       "0  2000-02             1.754260              0.32      25.557100     0.20440   \n",
       "1  2000-03             2.016075              3.07      26.973700     0.21600   \n",
       "2  2000-04             0.296925              2.36      33.351775     0.27375   \n",
       "3  2000-05             0.406600              1.02      40.815733     0.29960   \n",
       "4  2000-06             0.250000              4.55      36.667025     0.40450   \n",
       "\n",
       "   Evapotranspiration  County  \n",
       "0            1.640400  Crosby  \n",
       "1            2.716475  Crosby  \n",
       "2            1.790225  Crosby  \n",
       "3            1.057933  Crosby  \n",
       "4            3.800975  Crosby  "
      ]
     },
     "execution_count": 27,
     "metadata": {},
     "output_type": "execute_result"
    }
   ],
   "source": [
    "# Set working Directory\n",
    "path = \"C:/Users/Reena Shrestha/OneDrive - lamar.edu/Desktop/Machine learning/Project_1\"\n",
    "fname = 'area1.csv'\n",
    "os.chdir(path) \n",
    "a = pd.read_csv(fname)\n",
    "a.head(5)"
   ]
  },
  {
   "cell_type": "code",
   "execution_count": 28,
   "id": "5a0ba3c4",
   "metadata": {},
   "outputs": [],
   "source": [
    "features = ['Precipitation_in', 'Temperature_C','Vegetation', 'Evapotranspiration'] # List of Input features for model\n",
    "X = a[features] # Dataframe of the data features\n",
    "Y = a['Drought_Level_Index'] # Add Y variable to the input deature datframe\n",
    "X = (X-X.min()) / (X.max()-X.min()) # Normalize the data\n",
    "Y = Y.apply(lambda Y:Y >= 0.845875).astype(int) # convert the continuous variable to binary variable with threshold of 0.845875"
   ]
  },
  {
   "cell_type": "code",
   "execution_count": 29,
   "id": "21638667",
   "metadata": {},
   "outputs": [],
   "source": [
    "# Split into training and testing data\n",
    "X_train,X_test,Y_train,Y_test=train_test_split(X,Y,test_size=0.30,random_state=10)"
   ]
  },
  {
   "cell_type": "code",
   "execution_count": 30,
   "id": "3f7c9a12",
   "metadata": {},
   "outputs": [],
   "source": [
    "# instantiate the model \n",
    "logreg = LogisticRegression(C=10**9) # setting a large C to ensure no regulation"
   ]
  },
  {
   "cell_type": "code",
   "execution_count": 31,
   "id": "0cc40157",
   "metadata": {},
   "outputs": [
    {
     "data": {
      "text/plain": [
       "LogisticRegression(C=1000000000)"
      ]
     },
     "execution_count": 31,
     "metadata": {},
     "output_type": "execute_result"
    }
   ],
   "source": [
    "# fit the model to training data\n",
    "logreg.fit(X_train,Y_train)"
   ]
  },
  {
   "cell_type": "markdown",
   "id": "ffeb7d2a",
   "metadata": {},
   "source": [
    "<h6> Making prediction for training data </h6>"
   ]
  },
  {
   "cell_type": "code",
   "execution_count": 32,
   "id": "8645d08c",
   "metadata": {},
   "outputs": [
    {
     "data": {
      "text/html": [
       "<div>\n",
       "<style scoped>\n",
       "    .dataframe tbody tr th:only-of-type {\n",
       "        vertical-align: middle;\n",
       "    }\n",
       "\n",
       "    .dataframe tbody tr th {\n",
       "        vertical-align: top;\n",
       "    }\n",
       "\n",
       "    .dataframe thead th {\n",
       "        text-align: right;\n",
       "    }\n",
       "</style>\n",
       "<table border=\"1\" class=\"dataframe\">\n",
       "  <thead>\n",
       "    <tr style=\"text-align: right;\">\n",
       "      <th></th>\n",
       "      <th>0</th>\n",
       "      <th>1</th>\n",
       "    </tr>\n",
       "  </thead>\n",
       "  <tbody>\n",
       "    <tr>\n",
       "      <th>0</th>\n",
       "      <td>0.580582</td>\n",
       "      <td>0.419418</td>\n",
       "    </tr>\n",
       "    <tr>\n",
       "      <th>1</th>\n",
       "      <td>0.240520</td>\n",
       "      <td>0.759480</td>\n",
       "    </tr>\n",
       "    <tr>\n",
       "      <th>2</th>\n",
       "      <td>0.779772</td>\n",
       "      <td>0.220228</td>\n",
       "    </tr>\n",
       "    <tr>\n",
       "      <th>3</th>\n",
       "      <td>0.453361</td>\n",
       "      <td>0.546639</td>\n",
       "    </tr>\n",
       "    <tr>\n",
       "      <th>4</th>\n",
       "      <td>0.427737</td>\n",
       "      <td>0.572263</td>\n",
       "    </tr>\n",
       "  </tbody>\n",
       "</table>\n",
       "</div>"
      ],
      "text/plain": [
       "          0         1\n",
       "0  0.580582  0.419418\n",
       "1  0.240520  0.759480\n",
       "2  0.779772  0.220228\n",
       "3  0.453361  0.546639\n",
       "4  0.427737  0.572263"
      ]
     },
     "execution_count": 32,
     "metadata": {},
     "output_type": "execute_result"
    }
   ],
   "source": [
    "Y_pred = logreg.predict(X_train) # Make Predictions\n",
    "Yprob = logreg.predict_proba(X_train) #test output probabilities\n",
    "zz = pd.DataFrame(Yprob)\n",
    "zz.head()"
   ]
  },
  {
   "cell_type": "markdown",
   "id": "e6bb9b55",
   "metadata": {},
   "source": [
    "<h6> Making prediction for testing data </h6>"
   ]
  },
  {
   "cell_type": "code",
   "execution_count": 11,
   "id": "e28492d7",
   "metadata": {},
   "outputs": [
    {
     "data": {
      "text/html": [
       "<div>\n",
       "<style scoped>\n",
       "    .dataframe tbody tr th:only-of-type {\n",
       "        vertical-align: middle;\n",
       "    }\n",
       "\n",
       "    .dataframe tbody tr th {\n",
       "        vertical-align: top;\n",
       "    }\n",
       "\n",
       "    .dataframe thead th {\n",
       "        text-align: right;\n",
       "    }\n",
       "</style>\n",
       "<table border=\"1\" class=\"dataframe\">\n",
       "  <thead>\n",
       "    <tr style=\"text-align: right;\">\n",
       "      <th></th>\n",
       "      <th>0</th>\n",
       "      <th>1</th>\n",
       "    </tr>\n",
       "  </thead>\n",
       "  <tbody>\n",
       "    <tr>\n",
       "      <th>0</th>\n",
       "      <td>0.789891</td>\n",
       "      <td>0.210109</td>\n",
       "    </tr>\n",
       "    <tr>\n",
       "      <th>1</th>\n",
       "      <td>0.540033</td>\n",
       "      <td>0.459967</td>\n",
       "    </tr>\n",
       "    <tr>\n",
       "      <th>2</th>\n",
       "      <td>0.471533</td>\n",
       "      <td>0.528467</td>\n",
       "    </tr>\n",
       "    <tr>\n",
       "      <th>3</th>\n",
       "      <td>0.699703</td>\n",
       "      <td>0.300297</td>\n",
       "    </tr>\n",
       "    <tr>\n",
       "      <th>4</th>\n",
       "      <td>0.870556</td>\n",
       "      <td>0.129444</td>\n",
       "    </tr>\n",
       "  </tbody>\n",
       "</table>\n",
       "</div>"
      ],
      "text/plain": [
       "          0         1\n",
       "0  0.789891  0.210109\n",
       "1  0.540033  0.459967\n",
       "2  0.471533  0.528467\n",
       "3  0.699703  0.300297\n",
       "4  0.870556  0.129444"
      ]
     },
     "execution_count": 11,
     "metadata": {},
     "output_type": "execute_result"
    }
   ],
   "source": [
    "Y_pred1 = logreg.predict(X_test) # Make Predictions\n",
    "Yprob1 = logreg.predict_proba(X_test) #test output probabilities\n",
    "zz1 = pd.DataFrame(Yprob1)\n",
    "zz1.head()"
   ]
  },
  {
   "cell_type": "markdown",
   "id": "8908b8a2",
   "metadata": {},
   "source": [
    "<h6> Get the parameters </h6>"
   ]
  },
  {
   "cell_type": "code",
   "execution_count": 12,
   "id": "b3081ba2",
   "metadata": {},
   "outputs": [
    {
     "data": {
      "text/plain": [
       "array([1.38704366])"
      ]
     },
     "execution_count": 12,
     "metadata": {},
     "output_type": "execute_result"
    }
   ],
   "source": [
    "logreg.get_params()\n",
    "logreg.coef_\n",
    "logreg.intercept_"
   ]
  },
  {
   "cell_type": "markdown",
   "id": "2748bffe",
   "metadata": {},
   "source": [
    "<h6> Extract the coefficients and intercept </h6>"
   ]
  },
  {
   "cell_type": "code",
   "execution_count": 14,
   "id": "0cb55593",
   "metadata": {},
   "outputs": [],
   "source": [
    "vals = logreg.coef_.tolist() # Extracts the coefficients\n",
    "vals = list(chain.from_iterable(vals)) # Flatten nested list to single list\n",
    "intcept = float(logreg.intercept_) # Extract the intercept of model\n",
    "vals.append(intcept) #Append the intercept to coefficient"
   ]
  },
  {
   "cell_type": "markdown",
   "id": "1b3fc9f3",
   "metadata": {},
   "source": [
    "<h6> Create a confusion matrix for train data and plot it </h6>"
   ]
  },
  {
   "cell_type": "code",
   "execution_count": 16,
   "id": "785d17b7",
   "metadata": {},
   "outputs": [
    {
     "data": {
      "image/png": "[encoded data removed]",
      "text/plain": [
       "<Figure size 640x480 with 2 Axes>"
      ]
     },
     "metadata": {},
     "output_type": "display_data"
    }
   ],
   "source": [
    "cnf_matrix = metrics.confusion_matrix(Y_train, Y_pred) # Calculate confusion matrix for the model\n",
    "cnf_matrix # y_train is going be rows (obs), y_pred (predicted) are cols\n",
    "disp = metrics.ConfusionMatrixDisplay(confusion_matrix=cnf_matrix)\n",
    "disp.plot() #create visualization of confusion matrix\n",
    "plt.show() # Display the visualisation"
   ]
  },
  {
   "cell_type": "markdown",
   "id": "320def00",
   "metadata": {},
   "source": [
    "<h6> Create confusion matrix for test data </h6>"
   ]
  },
  {
   "cell_type": "code",
   "execution_count": 17,
   "id": "dce09424",
   "metadata": {},
   "outputs": [
    {
     "data": {
      "image/png": "[encoded data removed]",
      "text/plain": [
       "<Figure size 640x480 with 2 Axes>"
      ]
     },
     "metadata": {},
     "output_type": "display_data"
    }
   ],
   "source": [
    "cnf_matrix1 = metrics.confusion_matrix(Y_test, Y_pred1) # Calculate confusion matrix for the model\n",
    "cnf_matrix1 # y_test is going be rows (obs), y_pred1 (predicted) are cols\n",
    "disp1 = metrics.ConfusionMatrixDisplay(confusion_matrix=cnf_matrix1)\n",
    "disp1.plot() #create visualization of confusion matrix\n",
    "plt.show() # Display the visualisation"
   ]
  },
  {
   "cell_type": "markdown",
   "id": "15847078",
   "metadata": {},
   "source": [
    "<h6> Evaluate the model using accuracy, precision, recall for train data </h6>"
   ]
  },
  {
   "cell_type": "code",
   "execution_count": 18,
   "id": "feeb81f5",
   "metadata": {},
   "outputs": [
    {
     "name": "stdout",
     "output_type": "stream",
     "text": [
      "Accuracy: 0.7083333333333334\n",
      "Precision: 0.691358024691358\n",
      "Recall: 0.7475728155339806\n"
     ]
    }
   ],
   "source": [
    "print(\"Accuracy:\",metrics.accuracy_score(Y_train, Y_pred)) #Accuracy of the model on training data\n",
    "print(\"Precision:\",metrics.precision_score(Y_train, Y_pred)) #Precision of the model on training data\n",
    "print(\"Recall:\",metrics.recall_score(Y_train, Y_pred)) #Recall of the model on training data"
   ]
  },
  {
   "cell_type": "markdown",
   "id": "6a4060c2",
   "metadata": {},
   "source": [
    "<h6> Evaluate the model using accuracy, precision, recall for train data </h6>"
   ]
  },
  {
   "cell_type": "code",
   "execution_count": 19,
   "id": "5392c3f7",
   "metadata": {},
   "outputs": [
    {
     "name": "stdout",
     "output_type": "stream",
     "text": [
      "Accuracy: 0.70042194092827\n",
      "Precision: 0.6851385390428212\n",
      "Recall: 0.7555555555555555\n"
     ]
    }
   ],
   "source": [
    "print(\"Accuracy:\",metrics.accuracy_score(Y_test, Y_pred1)) #Accuracy of the model on testing data\n",
    "print(\"Precision:\",metrics.precision_score(Y_test, Y_pred1)) #Precision of the model on testing data\n",
    "print(\"Recall:\",metrics.recall_score(Y_test, Y_pred1)) #Recall of the model on testing data"
   ]
  },
  {
   "cell_type": "markdown",
   "id": "d764ef27",
   "metadata": {},
   "source": [
    "<h6> ROC curve for the model for training data </h6>"
   ]
  },
  {
   "cell_type": "code",
   "execution_count": 25,
   "id": "e776dc5e",
   "metadata": {},
   "outputs": [
    {
     "data": {
      "image/png": "[encoded data removed]",
      "text/plain": [
       "<Figure size 640x480 with 1 Axes>"
      ]
     },
     "metadata": {},
     "output_type": "display_data"
    }
   ],
   "source": [
    "Y_pred_proba = logreg.predict_proba(X_train)[::,1]\n",
    "fpr, tpr, _ = metrics.roc_curve(Y_train,  Y_pred_proba)\n",
    "auc = metrics.roc_auc_score(Y_train, Y_pred_proba)\n",
    "plt.plot(fpr,tpr,label=\"data 1, auc=\"+str(round(auc,4)))\n",
    "plt.legend(loc=4)\n",
    "plt.title('ROC curve for training data (area 1)')\n",
    "plt.xlabel('1-Specificity')\n",
    "plt.ylabel('Sensitivity')\n",
    "plt.grid()\n",
    "plt.show()"
   ]
  },
  {
   "cell_type": "markdown",
   "id": "e241fe3a",
   "metadata": {},
   "source": [
    "<h6> ROC curve for the model for testing data </h6>"
   ]
  },
  {
   "cell_type": "code",
   "execution_count": 23,
   "id": "8090b45d",
   "metadata": {},
   "outputs": [
    {
     "data": {
      "image/png": "[encoded data removed]",
      "text/plain": [
       "<Figure size 640x480 with 1 Axes>"
      ]
     },
     "metadata": {},
     "output_type": "display_data"
    }
   ],
   "source": [
    "Y_pred_proba1 = logreg.predict_proba(X_test)[::,1]\n",
    "fpr, tpr, _ = metrics.roc_curve(Y_test,  Y_pred_proba1)\n",
    "auc = metrics.roc_auc_score(Y_test, Y_pred_proba1)\n",
    "plt.plot(fpr,tpr,label=\"data 1, auc=\"+str(round(auc,4)))\n",
    "plt.legend(loc=4)\n",
    "plt.title('ROC curve for testing data (area 1)')\n",
    "plt.xlabel('1-Specificity')\n",
    "plt.ylabel('Sensitivity')\n",
    "plt.grid()\n",
    "plt.show()"
   ]
  },
  {
   "cell_type": "code",
   "execution_count": null,
   "id": "50ed1ad1",
   "metadata": {},
   "outputs": [],
   "source": []
  }
 ],
 "metadata": {
  "kernelspec": {
   "display_name": "Python 3 (ipykernel)",
   "language": "python",
   "name": "python3"
  },
  "language_info": {
   "codemirror_mode": {
    "name": "ipython",
    "version": 3
   },
   "file_extension": ".py",
   "mimetype": "text/x-python",
   "name": "python",
   "nbconvert_exporter": "python",
   "pygments_lexer": "ipython3",
   "version": "3.9.13"
  }
 },
 "nbformat": 4,
 "nbformat_minor": 5
}

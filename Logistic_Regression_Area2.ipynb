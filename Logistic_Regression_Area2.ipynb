{
 "cells": [
  {
   "cell_type": "markdown",
   "id": "c45e9d59",
   "metadata": {},
   "source": [
    "<center> <h1> <font color='blue'> Logistic Regression for Area 2 </h1> "
   ]
  },
  {
   "cell_type": "markdown",
   "id": "87a3d91a",
   "metadata": {},
   "source": [
    "<h6> Load Libraries </h6>"
   ]
  },
  {
   "cell_type": "code",
   "execution_count": 1,
   "id": "5b86f847",
   "metadata": {},
   "outputs": [],
   "source": [
    "import os\n",
    "import pandas as pd\n",
    "from sklearn.model_selection import train_test_split\n",
    "from sklearn.linear_model import LogisticRegression\n",
    "from sklearn import metrics\n",
    "from itertools import chain\n",
    "from matplotlib import pyplot as plt"
   ]
  },
  {
   "cell_type": "markdown",
   "id": "4d3ded4a",
   "metadata": {},
   "source": [
    "<h6> Set the working directory </h6>"
   ]
  },
  {
   "cell_type": "code",
   "execution_count": 20,
   "id": "636f4efa",
   "metadata": {},
   "outputs": [
    {
     "data": {
      "text/html": [
       "<div>\n",
       "<style scoped>\n",
       "    .dataframe tbody tr th:only-of-type {\n",
       "        vertical-align: middle;\n",
       "    }\n",
       "\n",
       "    .dataframe tbody tr th {\n",
       "        vertical-align: top;\n",
       "    }\n",
       "\n",
       "    .dataframe thead th {\n",
       "        text-align: right;\n",
       "    }\n",
       "</style>\n",
       "<table border=\"1\" class=\"dataframe\">\n",
       "  <thead>\n",
       "    <tr style=\"text-align: right;\">\n",
       "      <th></th>\n",
       "      <th>Date</th>\n",
       "      <th>Drought_Level_Index</th>\n",
       "      <th>Precipitation_in</th>\n",
       "      <th>Temperature_C</th>\n",
       "      <th>Vegetation</th>\n",
       "      <th>Evapotranspiration</th>\n",
       "      <th>County</th>\n",
       "    </tr>\n",
       "  </thead>\n",
       "  <tbody>\n",
       "    <tr>\n",
       "      <th>0</th>\n",
       "      <td>2000-02</td>\n",
       "      <td>2.200000</td>\n",
       "      <td>0.86</td>\n",
       "      <td>27.926950</td>\n",
       "      <td>0.38100</td>\n",
       "      <td>10.843150</td>\n",
       "      <td>Kleberg</td>\n",
       "    </tr>\n",
       "    <tr>\n",
       "      <th>1</th>\n",
       "      <td>2000-03</td>\n",
       "      <td>2.500000</td>\n",
       "      <td>2.30</td>\n",
       "      <td>28.843550</td>\n",
       "      <td>0.46910</td>\n",
       "      <td>12.954325</td>\n",
       "      <td>Kleberg</td>\n",
       "    </tr>\n",
       "    <tr>\n",
       "      <th>2</th>\n",
       "      <td>2000-04</td>\n",
       "      <td>2.069550</td>\n",
       "      <td>0.39</td>\n",
       "      <td>34.030375</td>\n",
       "      <td>0.49620</td>\n",
       "      <td>13.880750</td>\n",
       "      <td>Kleberg</td>\n",
       "    </tr>\n",
       "    <tr>\n",
       "      <th>3</th>\n",
       "      <td>2000-05</td>\n",
       "      <td>1.645060</td>\n",
       "      <td>4.35</td>\n",
       "      <td>32.135867</td>\n",
       "      <td>0.57665</td>\n",
       "      <td>19.324300</td>\n",
       "      <td>Kleberg</td>\n",
       "    </tr>\n",
       "    <tr>\n",
       "      <th>4</th>\n",
       "      <td>2000-06</td>\n",
       "      <td>0.840025</td>\n",
       "      <td>1.78</td>\n",
       "      <td>34.281475</td>\n",
       "      <td>0.52115</td>\n",
       "      <td>17.887550</td>\n",
       "      <td>Kleberg</td>\n",
       "    </tr>\n",
       "  </tbody>\n",
       "</table>\n",
       "</div>"
      ],
      "text/plain": [
       "      Date  Drought_Level_Index  Precipitation_in  Temperature_C  Vegetation  \\\n",
       "0  2000-02             2.200000              0.86      27.926950     0.38100   \n",
       "1  2000-03             2.500000              2.30      28.843550     0.46910   \n",
       "2  2000-04             2.069550              0.39      34.030375     0.49620   \n",
       "3  2000-05             1.645060              4.35      32.135867     0.57665   \n",
       "4  2000-06             0.840025              1.78      34.281475     0.52115   \n",
       "\n",
       "   Evapotranspiration   County  \n",
       "0           10.843150  Kleberg  \n",
       "1           12.954325  Kleberg  \n",
       "2           13.880750  Kleberg  \n",
       "3           19.324300  Kleberg  \n",
       "4           17.887550  Kleberg  "
      ]
     },
     "execution_count": 20,
     "metadata": {},
     "output_type": "execute_result"
    }
   ],
   "source": [
    "# Set working Directory\n",
    "path = \"C:/Users/Reena Shrestha/OneDrive - lamar.edu/Desktop/Machine learning/Project_1\"\n",
    "fname = 'area2.csv'\n",
    "os.chdir(path) \n",
    "a = pd.read_csv(fname)\n",
    "a.head(5)"
   ]
  },
  {
   "cell_type": "code",
   "execution_count": 21,
   "id": "65489579",
   "metadata": {},
   "outputs": [],
   "source": [
    "features = ['Precipitation_in', 'Temperature_C','Vegetation', 'Evapotranspiration'] # List of Input features for model\n",
    "X = a[features] # Dataframe of the data features\n",
    "Y = a['Drought_Level_Index'] # Add Y variable to the input deature datframe\n",
    "X = (X-X.min()) / (X.max()-X.min()) # Normalize the data\n",
    "Y = Y.apply(lambda Y:Y >= 0.845875).astype(int) # convert the continuous variable to binary variable with threshold of 0.845875"
   ]
  },
  {
   "cell_type": "code",
   "execution_count": 4,
   "id": "19720765",
   "metadata": {},
   "outputs": [],
   "source": [
    "# Split into training and testing data\n",
    "X_train,X_test,Y_train,Y_test=train_test_split(X,Y,test_size=0.30,random_state=10)"
   ]
  },
  {
   "cell_type": "code",
   "execution_count": 5,
   "id": "5b94b123",
   "metadata": {},
   "outputs": [],
   "source": [
    "# instantiate the model \n",
    "logreg = LogisticRegression(C=10**9) # setting a large C to ensure no regulation"
   ]
  },
  {
   "cell_type": "code",
   "execution_count": 6,
   "id": "b15b6722",
   "metadata": {},
   "outputs": [
    {
     "data": {
      "text/plain": [
       "LogisticRegression(C=1000000000)"
      ]
     },
     "execution_count": 6,
     "metadata": {},
     "output_type": "execute_result"
    }
   ],
   "source": [
    "# fit the model to training data\n",
    "logreg.fit(X_train,Y_train)"
   ]
  },
  {
   "cell_type": "markdown",
   "id": "80da237e",
   "metadata": {},
   "source": [
    "<h6> Making prediction for training data </h6>"
   ]
  },
  {
   "cell_type": "code",
   "execution_count": 7,
   "id": "b216aab7",
   "metadata": {},
   "outputs": [
    {
     "data": {
      "text/html": [
       "<div>\n",
       "<style scoped>\n",
       "    .dataframe tbody tr th:only-of-type {\n",
       "        vertical-align: middle;\n",
       "    }\n",
       "\n",
       "    .dataframe tbody tr th {\n",
       "        vertical-align: top;\n",
       "    }\n",
       "\n",
       "    .dataframe thead th {\n",
       "        text-align: right;\n",
       "    }\n",
       "</style>\n",
       "<table border=\"1\" class=\"dataframe\">\n",
       "  <thead>\n",
       "    <tr style=\"text-align: right;\">\n",
       "      <th></th>\n",
       "      <th>0</th>\n",
       "      <th>1</th>\n",
       "    </tr>\n",
       "  </thead>\n",
       "  <tbody>\n",
       "    <tr>\n",
       "      <th>0</th>\n",
       "      <td>0.577967</td>\n",
       "      <td>0.422033</td>\n",
       "    </tr>\n",
       "    <tr>\n",
       "      <th>1</th>\n",
       "      <td>0.466598</td>\n",
       "      <td>0.533402</td>\n",
       "    </tr>\n",
       "    <tr>\n",
       "      <th>2</th>\n",
       "      <td>0.723256</td>\n",
       "      <td>0.276744</td>\n",
       "    </tr>\n",
       "    <tr>\n",
       "      <th>3</th>\n",
       "      <td>0.782808</td>\n",
       "      <td>0.217192</td>\n",
       "    </tr>\n",
       "    <tr>\n",
       "      <th>4</th>\n",
       "      <td>0.916347</td>\n",
       "      <td>0.083653</td>\n",
       "    </tr>\n",
       "  </tbody>\n",
       "</table>\n",
       "</div>"
      ],
      "text/plain": [
       "          0         1\n",
       "0  0.577967  0.422033\n",
       "1  0.466598  0.533402\n",
       "2  0.723256  0.276744\n",
       "3  0.782808  0.217192\n",
       "4  0.916347  0.083653"
      ]
     },
     "execution_count": 7,
     "metadata": {},
     "output_type": "execute_result"
    }
   ],
   "source": [
    "Y_pred = logreg.predict(X_train) # Make Predictions\n",
    "Yprob = logreg.predict_proba(X_train) #test output probabilities\n",
    "zz = pd.DataFrame(Yprob)\n",
    "zz.head()"
   ]
  },
  {
   "cell_type": "markdown",
   "id": "d40ae03c",
   "metadata": {},
   "source": [
    "<h6> Making prediction for testing data </h6>"
   ]
  },
  {
   "cell_type": "code",
   "execution_count": 8,
   "id": "f0b715dc",
   "metadata": {},
   "outputs": [
    {
     "data": {
      "text/html": [
       "<div>\n",
       "<style scoped>\n",
       "    .dataframe tbody tr th:only-of-type {\n",
       "        vertical-align: middle;\n",
       "    }\n",
       "\n",
       "    .dataframe tbody tr th {\n",
       "        vertical-align: top;\n",
       "    }\n",
       "\n",
       "    .dataframe thead th {\n",
       "        text-align: right;\n",
       "    }\n",
       "</style>\n",
       "<table border=\"1\" class=\"dataframe\">\n",
       "  <thead>\n",
       "    <tr style=\"text-align: right;\">\n",
       "      <th></th>\n",
       "      <th>0</th>\n",
       "      <th>1</th>\n",
       "    </tr>\n",
       "  </thead>\n",
       "  <tbody>\n",
       "    <tr>\n",
       "      <th>0</th>\n",
       "      <td>0.745703</td>\n",
       "      <td>0.254297</td>\n",
       "    </tr>\n",
       "    <tr>\n",
       "      <th>1</th>\n",
       "      <td>0.487712</td>\n",
       "      <td>0.512288</td>\n",
       "    </tr>\n",
       "    <tr>\n",
       "      <th>2</th>\n",
       "      <td>0.218680</td>\n",
       "      <td>0.781320</td>\n",
       "    </tr>\n",
       "    <tr>\n",
       "      <th>3</th>\n",
       "      <td>0.910007</td>\n",
       "      <td>0.089993</td>\n",
       "    </tr>\n",
       "    <tr>\n",
       "      <th>4</th>\n",
       "      <td>0.498145</td>\n",
       "      <td>0.501855</td>\n",
       "    </tr>\n",
       "  </tbody>\n",
       "</table>\n",
       "</div>"
      ],
      "text/plain": [
       "          0         1\n",
       "0  0.745703  0.254297\n",
       "1  0.487712  0.512288\n",
       "2  0.218680  0.781320\n",
       "3  0.910007  0.089993\n",
       "4  0.498145  0.501855"
      ]
     },
     "execution_count": 8,
     "metadata": {},
     "output_type": "execute_result"
    }
   ],
   "source": [
    "Y_pred1 = logreg.predict(X_test) # Make Predictions\n",
    "Yprob1 = logreg.predict_proba(X_test) #test output probabilities\n",
    "zz1 = pd.DataFrame(Yprob1)\n",
    "zz1.head()"
   ]
  },
  {
   "cell_type": "markdown",
   "id": "07dc3b67",
   "metadata": {},
   "source": [
    "<h6> Get the parameters </h6>"
   ]
  },
  {
   "cell_type": "code",
   "execution_count": 9,
   "id": "c0738c36",
   "metadata": {},
   "outputs": [
    {
     "data": {
      "text/plain": [
       "array([-1.12058054])"
      ]
     },
     "execution_count": 9,
     "metadata": {},
     "output_type": "execute_result"
    }
   ],
   "source": [
    "logreg.get_params()\n",
    "logreg.coef_\n",
    "logreg.intercept_"
   ]
  },
  {
   "cell_type": "markdown",
   "id": "a032dc49",
   "metadata": {},
   "source": [
    "<h6> Extract the coefficients and intercept </h6>"
   ]
  },
  {
   "cell_type": "code",
   "execution_count": 10,
   "id": "60f43b60",
   "metadata": {},
   "outputs": [],
   "source": [
    "vals = logreg.coef_.tolist() # Extracts the coefficients\n",
    "vals = list(chain.from_iterable(vals)) # Flatten nested list to single list\n",
    "intcept = float(logreg.intercept_) # Extract the intercept of model\n",
    "vals.append(intcept) #Append the intercept to coefficient"
   ]
  },
  {
   "cell_type": "markdown",
   "id": "81550700",
   "metadata": {},
   "source": [
    "<h6> Create a confusion matrix for train data and plot it </h6>"
   ]
  },
  {
   "cell_type": "code",
   "execution_count": 11,
   "id": "1a20083a",
   "metadata": {},
   "outputs": [
    {
     "data": {
      "image/png": "[encoded data removed]",
      "text/plain": [
       "<Figure size 640x480 with 2 Axes>"
      ]
     },
     "metadata": {},
     "output_type": "display_data"
    }
   ],
   "source": [
    "cnf_matrix = metrics.confusion_matrix(Y_train, Y_pred) # Calculate confusion matrix for the model\n",
    "cnf_matrix # y_train is going be rows (obs), y_pred (predicted) are cols\n",
    "disp = metrics.ConfusionMatrixDisplay(confusion_matrix=cnf_matrix)\n",
    "disp.plot() #create visualization of confusion matrix\n",
    "plt.show() # Display the visualisation"
   ]
  },
  {
   "cell_type": "markdown",
   "id": "6f6e93c9",
   "metadata": {},
   "source": [
    "<h6> Create confusion matrix for test data </h6>"
   ]
  },
  {
   "cell_type": "code",
   "execution_count": 12,
   "id": "d49806e6",
   "metadata": {},
   "outputs": [
    {
     "data": {
      "image/png": "[encoded data removed]",
      "text/plain": [
       "<Figure size 640x480 with 2 Axes>"
      ]
     },
     "metadata": {},
     "output_type": "display_data"
    }
   ],
   "source": [
    "cnf_matrix1 = metrics.confusion_matrix(Y_test, Y_pred1) # Calculate confusion matrix for the model\n",
    "cnf_matrix1 # y_test is going be rows (obs), y_pred1 (predicted) are cols\n",
    "disp1 = metrics.ConfusionMatrixDisplay(confusion_matrix=cnf_matrix1)\n",
    "disp1.plot() #create visualization of confusion matrix\n",
    "plt.show() # Display the visualisation"
   ]
  },
  {
   "cell_type": "markdown",
   "id": "8ecb88f4",
   "metadata": {},
   "source": [
    "<h6> Evaluate the model using accuracy, precision, recall for train data </h6>"
   ]
  },
  {
   "cell_type": "code",
   "execution_count": 13,
   "id": "bbf6e798",
   "metadata": {},
   "outputs": [
    {
     "name": "stdout",
     "output_type": "stream",
     "text": [
      "Accuracy: 0.7038043478260869\n",
      "Precision: 0.6971428571428572\n",
      "Recall: 0.6853932584269663\n"
     ]
    }
   ],
   "source": [
    "print(\"Accuracy:\",metrics.accuracy_score(Y_train, Y_pred)) #Accuracy of the model on training data\n",
    "print(\"Precision:\",metrics.precision_score(Y_train, Y_pred)) #Precision of the model on training data\n",
    "print(\"Recall:\",metrics.recall_score(Y_train, Y_pred)) #Recall of the model on training data"
   ]
  },
  {
   "cell_type": "markdown",
   "id": "5cfa7b4d",
   "metadata": {},
   "source": [
    "<h6> Evaluate the model using accuracy, precision, recall for train data </h6>"
   ]
  },
  {
   "cell_type": "code",
   "execution_count": 14,
   "id": "1fe1cb04",
   "metadata": {},
   "outputs": [
    {
     "name": "stdout",
     "output_type": "stream",
     "text": [
      "Accuracy: 0.6835443037974683\n",
      "Precision: 0.6618705035971223\n",
      "Recall: 0.6344827586206897\n"
     ]
    }
   ],
   "source": [
    "print(\"Accuracy:\",metrics.accuracy_score(Y_test, Y_pred1)) #Accuracy of the model on testing data\n",
    "print(\"Precision:\",metrics.precision_score(Y_test, Y_pred1)) #Precision of the model on testing data\n",
    "print(\"Recall:\",metrics.recall_score(Y_test, Y_pred1)) #Recall of the model on testing data"
   ]
  },
  {
   "cell_type": "markdown",
   "id": "86304fc4",
   "metadata": {},
   "source": [
    "<h6> ROC curve for the model for training data </h6>"
   ]
  },
  {
   "cell_type": "code",
   "execution_count": 17,
   "id": "ea70beb9",
   "metadata": {},
   "outputs": [
    {
     "data": {
      "image/png": "[encoded data removed]",
      "text/plain": [
       "<Figure size 640x480 with 1 Axes>"
      ]
     },
     "metadata": {},
     "output_type": "display_data"
    }
   ],
   "source": [
    "Y_pred_proba = logreg.predict_proba(X_train)[::,1]\n",
    "fpr, tpr, _ = metrics.roc_curve(Y_train,  Y_pred_proba)\n",
    "auc = metrics.roc_auc_score(Y_train, Y_pred_proba)\n",
    "plt.plot(fpr,tpr,label=\"data 1, auc=\"+str(round(auc,4)))\n",
    "plt.legend(loc=4)\n",
    "plt.title('ROC curve for training data (area 2)')\n",
    "plt.xlabel('1-Specificity')\n",
    "plt.ylabel('Sensitivity')\n",
    "plt.grid()\n",
    "plt.show()"
   ]
  },
  {
   "cell_type": "markdown",
   "id": "49af7ff6",
   "metadata": {},
   "source": [
    "<h6> ROC curve for the model for testing data </h6>"
   ]
  },
  {
   "cell_type": "code",
   "execution_count": 18,
   "id": "3c6d88d7",
   "metadata": {},
   "outputs": [
    {
     "data": {
      "image/png": "[encoded data removed]",
      "text/plain": [
       "<Figure size 640x480 with 1 Axes>"
      ]
     },
     "metadata": {},
     "output_type": "display_data"
    }
   ],
   "source": [
    "Y_pred_proba1 = logreg.predict_proba(X_test)[::,1]\n",
    "fpr, tpr, _ = metrics.roc_curve(Y_test,  Y_pred_proba1)\n",
    "auc = metrics.roc_auc_score(Y_test, Y_pred_proba1)\n",
    "plt.plot(fpr,tpr,label=\"data 1, auc=\"+str(round(auc,4)))\n",
    "plt.legend(loc=4)\n",
    "plt.title('ROC curve for training data (area 2)')\n",
    "plt.xlabel('1-Specificity')\n",
    "plt.ylabel('Sensitivity')\n",
    "plt.grid()\n",
    "plt.show()"
   ]
  },
  {
   "cell_type": "code",
   "execution_count": null,
   "id": "9ed8abd1",
   "metadata": {},
   "outputs": [],
   "source": []
  }
 ],
 "metadata": {
  "kernelspec": {
   "display_name": "Python 3 (ipykernel)",
   "language": "python",
   "name": "python3"
  },
  "language_info": {
   "codemirror_mode": {
    "name": "ipython",
    "version": 3
   },
   "file_extension": ".py",
   "mimetype": "text/x-python",
   "name": "python",
   "nbconvert_exporter": "python",
   "pygments_lexer": "ipython3",
   "version": "3.9.13"
  }
 },
 "nbformat": 4,
 "nbformat_minor": 5
}
